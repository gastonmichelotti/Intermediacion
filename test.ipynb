{
 "cells": [
  {
   "cell_type": "code",
   "execution_count": 1,
   "metadata": {
    "dotnet_interactive": {
     "language": "csharp"
    },
    "polyglot_notebook": {
     "kernelName": "csharp"
    }
   },
   "outputs": [],
   "source": [
    "from Funciones import obtener_datos_base, calcular_margen, optimizar_precio, obtener_montos_motoboy\n",
    "from Querys import QueryBase\n",
    "from config import DEALS\n",
    "import pandas as pd\n"
   ]
  },
  {
   "cell_type": "code",
   "execution_count": 3,
   "metadata": {},
   "outputs": [
    {
     "ename": "AttributeError",
     "evalue": "'OptionEngine' object has no attribute 'execute'",
     "output_type": "error",
     "traceback": [
      "\u001b[0;31m---------------------------------------------------------------------------\u001b[0m",
      "\u001b[0;31mAttributeError\u001b[0m                            Traceback (most recent call last)",
      "Cell \u001b[0;32mIn[3], line 10\u001b[0m\n\u001b[1;32m      5\u001b[0m cliente \u001b[38;5;241m=\u001b[39m \u001b[38;5;124m'\u001b[39m\u001b[38;5;124msushi_club\u001b[39m\u001b[38;5;124m'\u001b[39m\n\u001b[1;32m      6\u001b[0m \u001b[38;5;66;03m# cliente = 'fabric'\u001b[39;00m\n\u001b[1;32m      7\u001b[0m \u001b[38;5;66;03m# cliente = 'fabric_guido'\u001b[39;00m\n\u001b[0;32m---> 10\u001b[0m base_datos \u001b[38;5;241m=\u001b[39m \u001b[43mobtener_datos_base\u001b[49m\u001b[43m(\u001b[49m\u001b[43mDEALS\u001b[49m\u001b[43m[\u001b[49m\u001b[38;5;124;43m'\u001b[39;49m\u001b[38;5;124;43msushi_club\u001b[39;49m\u001b[38;5;124;43m'\u001b[39;49m\u001b[43m]\u001b[49m\u001b[43m)\u001b[49m\n\u001b[1;32m     12\u001b[0m \u001b[38;5;66;03m##USAR ESTE CODIGO PARA CARGAR LOS DATOS DESDE EL CSV PREVIA GENERACIÓN DE LOS CSV POR ALGUN OTRO MÉTODO (EN CASO DE NO TENER ACCESO A LA BASE DE DATOS)\u001b[39;00m\n\u001b[1;32m     13\u001b[0m \u001b[38;5;66;03m# sushi_club= pd.read_csv('/Users/Gaston/Projects/Intermediacion/data/sushi_club_data.csv', delimiter=';')\u001b[39;00m\n\u001b[1;32m     14\u001b[0m \u001b[38;5;66;03m# fabric= pd.read_csv('/Users/Gaston/Projects/Intermediacion/data/fabric_data.csv', delimiter=';')\u001b[39;00m\n\u001b[1;32m     15\u001b[0m \u001b[38;5;66;03m# fabric_guido= pd.read_csv('/Users/Gaston/Projects/Intermediacion/data/fabric_guido_data.csv', delimiter=';')\u001b[39;00m\n",
      "File \u001b[0;32m~/Projects/Intermediacion/Funciones.py:19\u001b[0m, in \u001b[0;36mobtener_datos_base\u001b[0;34m(users)\u001b[0m\n\u001b[1;32m     15\u001b[0m \u001b[38;5;28;01mdef\u001b[39;00m \u001b[38;5;21mobtener_datos_base\u001b[39m(users: \u001b[38;5;28mlist\u001b[39m[\u001b[38;5;28mint\u001b[39m]):\n\u001b[1;32m     17\u001b[0m     query \u001b[38;5;241m=\u001b[39m QueryBase(users)\n\u001b[0;32m---> 19\u001b[0m     result \u001b[38;5;241m=\u001b[39m \u001b[43mpd\u001b[49m\u001b[38;5;241;43m.\u001b[39;49m\u001b[43mread_sql\u001b[49m\u001b[43m(\u001b[49m\u001b[43mquery\u001b[49m\u001b[43m,\u001b[49m\u001b[43m \u001b[49m\u001b[43mengine\u001b[49m\u001b[43m)\u001b[49m\n\u001b[1;32m     21\u001b[0m     \u001b[38;5;28;01mreturn\u001b[39;00m result\n",
      "File \u001b[0;32m/Library/Frameworks/Python.framework/Versions/3.11/lib/python3.11/site-packages/pandas/io/sql.py:590\u001b[0m, in \u001b[0;36mread_sql\u001b[0;34m(sql, con, index_col, coerce_float, params, parse_dates, columns, chunksize)\u001b[0m\n\u001b[1;32m    581\u001b[0m     \u001b[38;5;28;01mreturn\u001b[39;00m pandas_sql\u001b[38;5;241m.\u001b[39mread_table(\n\u001b[1;32m    582\u001b[0m         sql,\n\u001b[1;32m    583\u001b[0m         index_col\u001b[38;5;241m=\u001b[39mindex_col,\n\u001b[0;32m   (...)\u001b[0m\n\u001b[1;32m    587\u001b[0m         chunksize\u001b[38;5;241m=\u001b[39mchunksize,\n\u001b[1;32m    588\u001b[0m     )\n\u001b[1;32m    589\u001b[0m \u001b[38;5;28;01melse\u001b[39;00m:\n\u001b[0;32m--> 590\u001b[0m     \u001b[38;5;28;01mreturn\u001b[39;00m \u001b[43mpandas_sql\u001b[49m\u001b[38;5;241;43m.\u001b[39;49m\u001b[43mread_query\u001b[49m\u001b[43m(\u001b[49m\n\u001b[1;32m    591\u001b[0m \u001b[43m        \u001b[49m\u001b[43msql\u001b[49m\u001b[43m,\u001b[49m\n\u001b[1;32m    592\u001b[0m \u001b[43m        \u001b[49m\u001b[43mindex_col\u001b[49m\u001b[38;5;241;43m=\u001b[39;49m\u001b[43mindex_col\u001b[49m\u001b[43m,\u001b[49m\n\u001b[1;32m    593\u001b[0m \u001b[43m        \u001b[49m\u001b[43mparams\u001b[49m\u001b[38;5;241;43m=\u001b[39;49m\u001b[43mparams\u001b[49m\u001b[43m,\u001b[49m\n\u001b[1;32m    594\u001b[0m \u001b[43m        \u001b[49m\u001b[43mcoerce_float\u001b[49m\u001b[38;5;241;43m=\u001b[39;49m\u001b[43mcoerce_float\u001b[49m\u001b[43m,\u001b[49m\n\u001b[1;32m    595\u001b[0m \u001b[43m        \u001b[49m\u001b[43mparse_dates\u001b[49m\u001b[38;5;241;43m=\u001b[39;49m\u001b[43mparse_dates\u001b[49m\u001b[43m,\u001b[49m\n\u001b[1;32m    596\u001b[0m \u001b[43m        \u001b[49m\u001b[43mchunksize\u001b[49m\u001b[38;5;241;43m=\u001b[39;49m\u001b[43mchunksize\u001b[49m\u001b[43m,\u001b[49m\n\u001b[1;32m    597\u001b[0m \u001b[43m    \u001b[49m\u001b[43m)\u001b[49m\n",
      "File \u001b[0;32m/Library/Frameworks/Python.framework/Versions/3.11/lib/python3.11/site-packages/pandas/io/sql.py:1560\u001b[0m, in \u001b[0;36mSQLDatabase.read_query\u001b[0;34m(self, sql, index_col, coerce_float, parse_dates, params, chunksize, dtype)\u001b[0m\n\u001b[1;32m   1512\u001b[0m \u001b[38;5;250m\u001b[39m\u001b[38;5;124;03m\"\"\"\u001b[39;00m\n\u001b[1;32m   1513\u001b[0m \u001b[38;5;124;03mRead SQL query into a DataFrame.\u001b[39;00m\n\u001b[1;32m   1514\u001b[0m \n\u001b[0;32m   (...)\u001b[0m\n\u001b[1;32m   1556\u001b[0m \n\u001b[1;32m   1557\u001b[0m \u001b[38;5;124;03m\"\"\"\u001b[39;00m\n\u001b[1;32m   1558\u001b[0m args \u001b[38;5;241m=\u001b[39m _convert_params(sql, params)\n\u001b[0;32m-> 1560\u001b[0m result \u001b[38;5;241m=\u001b[39m \u001b[38;5;28;43mself\u001b[39;49m\u001b[38;5;241;43m.\u001b[39;49m\u001b[43mexecute\u001b[49m\u001b[43m(\u001b[49m\u001b[38;5;241;43m*\u001b[39;49m\u001b[43margs\u001b[49m\u001b[43m)\u001b[49m\n\u001b[1;32m   1561\u001b[0m columns \u001b[38;5;241m=\u001b[39m result\u001b[38;5;241m.\u001b[39mkeys()\n\u001b[1;32m   1563\u001b[0m \u001b[38;5;28;01mif\u001b[39;00m chunksize \u001b[38;5;129;01mis\u001b[39;00m \u001b[38;5;129;01mnot\u001b[39;00m \u001b[38;5;28;01mNone\u001b[39;00m:\n",
      "File \u001b[0;32m/Library/Frameworks/Python.framework/Versions/3.11/lib/python3.11/site-packages/pandas/io/sql.py:1405\u001b[0m, in \u001b[0;36mSQLDatabase.execute\u001b[0;34m(self, *args, **kwargs)\u001b[0m\n\u001b[1;32m   1403\u001b[0m \u001b[38;5;28;01mdef\u001b[39;00m \u001b[38;5;21mexecute\u001b[39m(\u001b[38;5;28mself\u001b[39m, \u001b[38;5;241m*\u001b[39margs, \u001b[38;5;241m*\u001b[39m\u001b[38;5;241m*\u001b[39mkwargs):\n\u001b[1;32m   1404\u001b[0m \u001b[38;5;250m    \u001b[39m\u001b[38;5;124;03m\"\"\"Simple passthrough to SQLAlchemy connectable\"\"\"\u001b[39;00m\n\u001b[0;32m-> 1405\u001b[0m     \u001b[38;5;28;01mreturn\u001b[39;00m \u001b[38;5;28;43mself\u001b[39;49m\u001b[38;5;241;43m.\u001b[39;49m\u001b[43mconnectable\u001b[49m\u001b[38;5;241;43m.\u001b[39;49m\u001b[43mexecution_options\u001b[49m\u001b[43m(\u001b[49m\u001b[43m)\u001b[49m\u001b[38;5;241;43m.\u001b[39;49m\u001b[43mexecute\u001b[49m(\u001b[38;5;241m*\u001b[39margs, \u001b[38;5;241m*\u001b[39m\u001b[38;5;241m*\u001b[39mkwargs)\n",
      "\u001b[0;31mAttributeError\u001b[0m: 'OptionEngine' object has no attribute 'execute'"
     ]
    }
   ],
   "source": [
    "##USAR ESTE CODIGO COMENTADO PARA CARGAR LOS DATOS DESDE LA BASE DE DATOS\n",
    "\n",
    "\n",
    "# descomentar la linea que corresponde al cliente que se quiere usar\n",
    "cliente = 'sushi_club'\n",
    "# cliente = 'fabric'\n",
    "# cliente = 'fabric_guido'\n",
    "\n",
    "\n",
    "base_datos = obtener_datos_base(DEALS[cliente])\n",
    "\n",
    "##USAR ESTE CODIGO PARA CARGAR LOS DATOS DESDE EL CSV PREVIA GENERACIÓN DE LOS CSV POR ALGUN OTRO MÉTODO (EN CASO DE NO TENER ACCESO A LA BASE DE DATOS)\n",
    "# sushi_club= pd.read_csv('/Users/Gaston/Projects/Intermediacion/data/sushi_club_data.csv', delimiter=';')\n",
    "# fabric= pd.read_csv('/Users/Gaston/Projects/Intermediacion/data/fabric_data.csv', delimiter=';')\n",
    "# fabric_guido= pd.read_csv('/Users/Gaston/Projects/Intermediacion/data/fabric_guido_data.csv', delimiter=';')\n",
    "\n",
    "\n",
    "## DEFINICIONES DE LOS PARAMETROS PARA EL CALCULO DE LOS PRECIOS\n",
    "difeCostoInter = {\n",
    "    'mediodia': 0.2,\n",
    "    'semana_noche': 0.2, \n",
    "    'finde_noche': 0.2\n",
    "}\n",
    "margenFinal = 0.2\n",
    "extraGBA = 0.07\n",
    "extra3hs = 0.1\n",
    "\n"
   ]
  },
  {
   "cell_type": "code",
   "execution_count": null,
   "metadata": {},
   "outputs": [
    {
     "name": "stdout",
     "output_type": "stream",
     "text": [
      "Margen objetivo: 0.2, Margen obtenido: 0.19999999998719362, Precio: 6524.059600160351\n"
     ]
    },
    {
     "name": "stderr",
     "output_type": "stream",
     "text": [
      "/Users/Gaston/Projects/Intermediacion/Funciones.py:133: SettingWithCopyWarning: \n",
      "A value is trying to be set on a copy of a slice from a DataFrame.\n",
      "Try using .loc[row_indexer,col_indexer] = value instead\n",
      "\n",
      "See the caveats in the documentation: https://pandas.pydata.org/pandas-docs/stable/user_guide/indexing.html#returning-a-view-versus-a-copy\n",
      "  base.loc[:, columnas_precio] = base.loc[:, columnas_precio].round(0)\n",
      "/Users/Gaston/Projects/Intermediacion/Funciones.py:137: SettingWithCopyWarning: \n",
      "A value is trying to be set on a copy of a slice from a DataFrame.\n",
      "Try using .loc[row_indexer,col_indexer] = value instead\n",
      "\n",
      "See the caveats in the documentation: https://pandas.pydata.org/pandas-docs/stable/user_guide/indexing.html#returning-a-view-versus-a-copy\n",
      "  base['id_alias'] = base['idUsuario'].astype(str) + '-' + base['alias']\n"
     ]
    },
    {
     "ename": "IndexError",
     "evalue": "list index out of range",
     "output_type": "error",
     "traceback": [
      "\u001b[0;31m---------------------------------------------------------------------------\u001b[0m",
      "\u001b[0;31mIndexError\u001b[0m                                Traceback (most recent call last)",
      "Cell \u001b[0;32mIn[5], line 6\u001b[0m\n\u001b[1;32m      2\u001b[0m precio_optimizado \u001b[38;5;241m=\u001b[39m optimizar_precio(sushi_club, difeCostoInter, extra3hs, extraGBA, margenFinal)\n\u001b[1;32m      4\u001b[0m CostoTotal, IngresoTotal, margen, MontosMotoboyNuevos \u001b[38;5;241m=\u001b[39m calcular_margen(sushi_club, difeCostoInter, extra3hs, extraGBA, precio_optimizado)\n\u001b[0;32m----> 6\u001b[0m MontosMotoboyACargar \u001b[38;5;241m=\u001b[39m \u001b[43mobtener_montos_motoboy\u001b[49m\u001b[43m(\u001b[49m\u001b[43mMontosMotoboyNuevos\u001b[49m\u001b[43m,\u001b[49m\u001b[43m \u001b[49m\u001b[43mextra3hs\u001b[49m\u001b[43m,\u001b[49m\u001b[43m \u001b[49m\u001b[43mtranspose\u001b[49m\u001b[38;5;241;43m=\u001b[39;49m\u001b[38;5;28;43;01mTrue\u001b[39;49;00m\u001b[43m)\u001b[49m\n\u001b[1;32m      8\u001b[0m \u001b[38;5;66;03m# Obtener el nombre de la variable base dinámicamente\u001b[39;00m\n\u001b[1;32m      9\u001b[0m base_name \u001b[38;5;241m=\u001b[39m [var_name \u001b[38;5;28;01mfor\u001b[39;00m var_name, var_val \u001b[38;5;129;01min\u001b[39;00m \u001b[38;5;28mlocals\u001b[39m()\u001b[38;5;241m.\u001b[39mitems() \u001b[38;5;28;01mif\u001b[39;00m \u001b[38;5;28misinstance\u001b[39m(var_val, pd\u001b[38;5;241m.\u001b[39mDataFrame) \u001b[38;5;129;01mand\u001b[39;00m var_val \u001b[38;5;129;01mis\u001b[39;00m sushi_club][\u001b[38;5;241m0\u001b[39m]\n",
      "File \u001b[0;32m~/Projects/Intermediacion/Funciones.py:156\u001b[0m, in \u001b[0;36mobtener_montos_motoboy\u001b[0;34m(base, extra3hs, transpose)\u001b[0m\n\u001b[1;32m    153\u001b[0m     base \u001b[38;5;241m=\u001b[39m df_transpuesto\n\u001b[1;32m    155\u001b[0m \u001b[38;5;66;03m# Obtener el nombre del DataFrame original\u001b[39;00m\n\u001b[0;32m--> 156\u001b[0m nombre_df \u001b[38;5;241m=\u001b[39m \u001b[43m[\u001b[49m\u001b[43mvar_name\u001b[49m\u001b[43m \u001b[49m\u001b[38;5;28;43;01mfor\u001b[39;49;00m\u001b[43m \u001b[49m\u001b[43mvar_name\u001b[49m\u001b[43m,\u001b[49m\u001b[43m \u001b[49m\u001b[43mvar_val\u001b[49m\u001b[43m \u001b[49m\u001b[38;5;129;43;01min\u001b[39;49;00m\u001b[43m \u001b[49m\u001b[38;5;28;43mglobals\u001b[39;49m\u001b[43m(\u001b[49m\u001b[43m)\u001b[49m\u001b[38;5;241;43m.\u001b[39;49m\u001b[43mitems\u001b[49m\u001b[43m(\u001b[49m\u001b[43m)\u001b[49m\u001b[43m \u001b[49m\u001b[38;5;28;43;01mif\u001b[39;49;00m\u001b[43m \u001b[49m\u001b[38;5;28;43misinstance\u001b[39;49m\u001b[43m(\u001b[49m\u001b[43mvar_val\u001b[49m\u001b[43m,\u001b[49m\u001b[43m \u001b[49m\u001b[43mpd\u001b[49m\u001b[38;5;241;43m.\u001b[39;49m\u001b[43mDataFrame\u001b[49m\u001b[43m)\u001b[49m\u001b[43m \u001b[49m\u001b[38;5;129;43;01mand\u001b[39;49;00m\u001b[43m \u001b[49m\u001b[43mvar_val\u001b[49m\u001b[43m \u001b[49m\u001b[38;5;129;43;01mis\u001b[39;49;00m\u001b[43m \u001b[49m\u001b[43mbase\u001b[49m\u001b[43m]\u001b[49m\u001b[43m[\u001b[49m\u001b[38;5;241;43m0\u001b[39;49m\u001b[43m]\u001b[49m\n\u001b[1;32m    158\u001b[0m \u001b[38;5;66;03m# Crear el directorio exports si no existe\u001b[39;00m\n\u001b[1;32m    159\u001b[0m \u001b[38;5;28;01mif\u001b[39;00m \u001b[38;5;129;01mnot\u001b[39;00m os\u001b[38;5;241m.\u001b[39mpath\u001b[38;5;241m.\u001b[39mexists(\u001b[38;5;124m'\u001b[39m\u001b[38;5;124mexports\u001b[39m\u001b[38;5;124m'\u001b[39m):\n",
      "\u001b[0;31mIndexError\u001b[0m: list index out of range"
     ]
    }
   ],
   "source": [
    "## OPTIMIZACION DEL PRECIO PARA EL CLIENTE seleccionado y calculo de los montos a cargar\n",
    "precio_optimizado = optimizar_precio(base_datos, difeCostoInter, extra3hs, extraGBA, margenFinal)\n",
    "\n",
    "CostoTotal, IngresoTotal, margen, MontosMotoboyNuevos = calcular_margen(base_datos, difeCostoInter, extra3hs, extraGBA, precio_optimizado)\n",
    "\n",
    "MontosMotoboyACargar = obtener_montos_motoboy(MontosMotoboyNuevos, extra3hs, transpose=True)\n",
    "\n",
    "print(f\"✅ El precio optimizado para el cliente {cliente} para obtener un margen final de {margenFinal} es: ${precio_optimizado:,.2f}\")\n",
    "print(f\"✅ Los Montos Motoboy a Cargar para el cliente {cliente} se han guardado en la carpeta exports\")\n",
    "\n",
    "# Guardar los montos directamente sin buscar el nombre de la variable\n",
    "if not os.path.exists('exports'):\n",
    "    os.makedirs('exports')\n",
    "    \n",
    "MontosMotoboyACargar.to_excel(f'exports/MontosMotoboy_{cliente}.xlsx', index=False)\n",
    "\n",
    "\n"
   ]
  },
  {
   "cell_type": "code",
   "execution_count": null,
   "metadata": {},
   "outputs": [],
   "source": []
  }
 ],
 "metadata": {
  "kernelspec": {
   "display_name": "Python 3",
   "language": "python",
   "name": "python3"
  },
  "language_info": {
   "codemirror_mode": {
    "name": "ipython",
    "version": 3
   },
   "file_extension": ".py",
   "mimetype": "text/x-python",
   "name": "python",
   "nbconvert_exporter": "python",
   "pygments_lexer": "ipython3",
   "version": "3.11.3"
  },
  "polyglot_notebook": {
   "kernelInfo": {
    "defaultKernelName": "csharp",
    "items": [
     {
      "aliases": [],
      "name": "csharp"
     }
    ]
   }
  }
 },
 "nbformat": 4,
 "nbformat_minor": 2
}
