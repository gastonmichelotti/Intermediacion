{
 "cells": [
  {
   "cell_type": "code",
   "execution_count": 1,
   "metadata": {
    "dotnet_interactive": {
     "language": "csharp"
    },
    "polyglot_notebook": {
     "kernelName": "csharp"
    }
   },
   "outputs": [
    {
     "ename": "ModuleNotFoundError",
     "evalue": "No module named 'pandas'",
     "output_type": "error",
     "traceback": [
      "\u001b[31m---------------------------------------------------------------------------\u001b[39m",
      "\u001b[31mModuleNotFoundError\u001b[39m                       Traceback (most recent call last)",
      "\u001b[36mCell\u001b[39m\u001b[36m \u001b[39m\u001b[32mIn[1]\u001b[39m\u001b[32m, line 1\u001b[39m\n\u001b[32m----> \u001b[39m\u001b[32m1\u001b[39m \u001b[38;5;28;01mfrom\u001b[39;00m\u001b[38;5;250m \u001b[39m\u001b[34;01mFunciones\u001b[39;00m\u001b[38;5;250m \u001b[39m\u001b[38;5;28;01mimport\u001b[39;00m obtener_datos_base, calcular_margen, optimizar_precio, obtener_montos_motoboy\n\u001b[32m      2\u001b[39m \u001b[38;5;28;01mfrom\u001b[39;00m\u001b[38;5;250m \u001b[39m\u001b[34;01mQuerys\u001b[39;00m\u001b[38;5;250m \u001b[39m\u001b[38;5;28;01mimport\u001b[39;00m QueryBase\n\u001b[32m      3\u001b[39m \u001b[38;5;28;01mfrom\u001b[39;00m\u001b[38;5;250m \u001b[39m\u001b[34;01mconfig\u001b[39;00m\u001b[38;5;250m \u001b[39m\u001b[38;5;28;01mimport\u001b[39;00m DEALS\n",
      "\u001b[36mFile \u001b[39m\u001b[32mc:\\Users\\Carola Michelotti\\Projects Gaston\\Intermediacion\\Funciones.py:1\u001b[39m\n\u001b[32m----> \u001b[39m\u001b[32m1\u001b[39m \u001b[38;5;28;01mimport\u001b[39;00m\u001b[38;5;250m \u001b[39m\u001b[34;01mpandas\u001b[39;00m\u001b[38;5;250m \u001b[39m\u001b[38;5;28;01mas\u001b[39;00m\u001b[38;5;250m \u001b[39m\u001b[34;01mpd\u001b[39;00m\n\u001b[32m      2\u001b[39m \u001b[38;5;28;01mimport\u001b[39;00m\u001b[38;5;250m \u001b[39m\u001b[34;01mrequests\u001b[39;00m\n\u001b[32m      3\u001b[39m \u001b[38;5;28;01mimport\u001b[39;00m\u001b[38;5;250m \u001b[39m\u001b[34;01mnumpy\u001b[39;00m\u001b[38;5;250m \u001b[39m\u001b[38;5;28;01mas\u001b[39;00m\u001b[38;5;250m \u001b[39m\u001b[34;01mnp\u001b[39;00m\n",
      "\u001b[31mModuleNotFoundError\u001b[39m: No module named 'pandas'"
     ]
    }
   ],
   "source": [
    "from Funciones import obtener_datos_base, calcular_margen, optimizar_precio, obtener_montos_motoboy\n",
    "from Querys import QueryBase\n",
    "from config import DEALS\n",
    "import pandas as pd\n",
    "import os\n",
    "import openpyxl\n"
   ]
  },
  {
   "cell_type": "code",
   "execution_count": 2,
   "metadata": {},
   "outputs": [],
   "source": [
    "##USAR ESTE CODIGO COMENTADO PARA CARGAR LOS DATOS DESDE LA BASE DE DATOS\n",
    "\n",
    "\n",
    "# descomentar la linea que corresponde al cliente que se quiere usar\n",
    "cliente = 'sushi_club'\n",
    "# cliente = 'fabric'\n",
    "# cliente = 'fabric_guido'\n",
    "\n",
    "\n",
    "base_datos = obtener_datos_base(DEALS[cliente])\n",
    "\n",
    "##USAR ESTE CODIGO PARA CARGAR LOS DATOS DESDE EL CSV PREVIA GENERACIÓN DE LOS CSV POR ALGUN OTRO MÉTODO (EN CASO DE NO TENER ACCESO A LA BASE DE DATOS)\n",
    "# sushi_club= pd.read_csv('/Users/Gaston/Projects/Intermediacion/data/sushi_club_data.csv', delimiter=';')\n",
    "# fabric= pd.read_csv('/Users/Gaston/Projects/Intermediacion/data/fabric_data.csv', delimiter=';')\n",
    "# fabric_guido= pd.read_csv('/Users/Gaston/Projects/Intermediacion/data/fabric_guido_data.csv', delimiter=';')\n",
    "\n",
    "\n",
    "## DEFINICIONES DE LOS PARAMETROS PARA EL CALCULO DE LOS PRECIOS\n",
    "difeCostoInter = {\n",
    "    'mediodia': 0.2,\n",
    "    'semana_noche': 0.2, \n",
    "    'finde_noche': 0.2\n",
    "}\n",
    "margenFinal = 0.2\n",
    "extraGBA = 0.07\n",
    "extra3hs = 0.1\n",
    "\n"
   ]
  },
  {
   "cell_type": "code",
   "execution_count": 3,
   "metadata": {},
   "outputs": [
    {
     "name": "stdout",
     "output_type": "stream",
     "text": [
      "Margen objetivo: 0.2, Margen obtenido: 0.19999999998719362, Precio: 6524.059600160351\n",
      "✅ El precio optimizado para el cliente sushi_club para obtener un margen final de 0.2 es: $6,524.06\n",
      "✅ Los Montos Motoboy a Cargar para el cliente sushi_club se han guardado en la carpeta exports\n"
     ]
    },
    {
     "name": "stderr",
     "output_type": "stream",
     "text": [
      "c:\\Users\\migue\\OneDrive\\Escritorio\\RAPIBOY-desktop\\PROYECTOS PROGRAMACION\\Intermediacion\\Funciones.py:138: SettingWithCopyWarning: \n",
      "A value is trying to be set on a copy of a slice from a DataFrame.\n",
      "Try using .loc[row_indexer,col_indexer] = value instead\n",
      "\n",
      "See the caveats in the documentation: https://pandas.pydata.org/pandas-docs/stable/user_guide/indexing.html#returning-a-view-versus-a-copy\n",
      "  base['id_alias'] = base['idUsuario'].astype(str) + '-' + base['alias']\n"
     ]
    }
   ],
   "source": [
    "## OPTIMIZACION DEL PRECIO PARA EL CLIENTE seleccionado y calculo de los montos a cargar\n",
    "precio_optimizado = optimizar_precio(base_datos, difeCostoInter, extra3hs, extraGBA, margenFinal)\n",
    "\n",
    "CostoTotal, IngresoTotal, margen, MontosMotoboyNuevos = calcular_margen(base_datos, difeCostoInter, extra3hs, extraGBA, precio_optimizado)\n",
    "\n",
    "MontosMotoboyACargar = obtener_montos_motoboy(MontosMotoboyNuevos, extra3hs, cliente, transpose=True)\n",
    "\n",
    "print(f\"✅ El precio optimizado para el cliente {cliente} para obtener un margen final de {margenFinal} es: ${precio_optimizado:,.2f}\")\n",
    "print(f\"✅ Los Montos Motoboy a Cargar para el cliente {cliente} se han guardado en la carpeta exports\")\n",
    "\n",
    "\n",
    "# Guardar los montos directamente sin buscar el nombre de la variable\n",
    "if not os.path.exists('exports'):\n",
    "    os.makedirs('exports')\n",
    "    \n",
    "MontosMotoboyACargar.to_excel(f'exports/MontosMotoboy_{cliente}.xlsx', index=False)\n",
    "\n"
   ]
  }
 ],
 "metadata": {
  "kernelspec": {
   "display_name": "Python 3",
   "language": "python",
   "name": "python3"
  },
  "language_info": {
   "codemirror_mode": {
    "name": "ipython",
    "version": 3
   },
   "file_extension": ".py",
   "mimetype": "text/x-python",
   "name": "python",
   "nbconvert_exporter": "python",
   "pygments_lexer": "ipython3",
   "version": "3.13.2"
  },
  "polyglot_notebook": {
   "kernelInfo": {
    "defaultKernelName": "csharp",
    "items": [
     {
      "aliases": [],
      "name": "csharp"
     }
    ]
   }
  }
 },
 "nbformat": 4,
 "nbformat_minor": 2
}
