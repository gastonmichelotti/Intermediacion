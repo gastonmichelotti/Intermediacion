{
 "cells": [
  {
   "cell_type": "code",
   "execution_count": 1,
   "metadata": {
    "dotnet_interactive": {
     "language": "csharp"
    },
    "polyglot_notebook": {
     "kernelName": "csharp"
    }
   },
   "outputs": [],
   "source": [
    "from Funciones import obtener_datos_base, calcular_margen, optimizar_precio\n",
    "from Querys import QueryBase\n",
    "from config import DEALS\n",
    "import pandas as pd\n"
   ]
  },
  {
   "cell_type": "code",
   "execution_count": 2,
   "metadata": {},
   "outputs": [],
   "source": [
    "# base = obtener_datos_base(DEALS['sushi_club'])\n",
    "base_sushi_club= pd.read_csv('/Users/Gaston/Projects/Intermediacion/data/sushi_club_data.csv')\n",
    "base_fabric= pd.read_csv('/Users/Gaston/Projects/Intermediacion/data/fabric_data.csv')\n",
    "base_fabric_guido= pd.read_csv('/Users/Gaston/Projects/Intermediacion/data/fabric_guido_data.csv')\n",
    "\n",
    "\n"
   ]
  },
  {
   "cell_type": "code",
   "execution_count": 11,
   "metadata": {},
   "outputs": [],
   "source": [
    "difeCostoInter = {\n",
    "    'mediodia': 0.2,\n",
    "    'semana_noche': 0.2, \n",
    "    'finde_noche': 0.2\n",
    "}\n",
    "margenFinal = 0.2\n",
    "extraGBA = 0.07\n",
    "extra3hs = 0.1\n",
    "\n"
   ]
  },
  {
   "cell_type": "code",
   "execution_count": 12,
   "metadata": {},
   "outputs": [
    {
     "name": "stdout",
     "output_type": "stream",
     "text": [
      "Margen objetivo: 0.2, Margen obtenido: 0.20000000021215797, Precio: 7259.577375269695\n"
     ]
    }
   ],
   "source": [
    "precio_optimizado = optimizar_precio(base_sushi_club, difeCostoInter, extra3hs, extraGBA, margenFinal)"
   ]
  },
  {
   "cell_type": "code",
   "execution_count": 26,
   "metadata": {},
   "outputs": [
    {
     "name": "stdout",
     "output_type": "stream",
     "text": [
      "Precio optimizado:  7163.6097160109\n"
     ]
    }
   ],
   "source": [
    "print('Precio optimizado: ', precio_optimizado)"
   ]
  },
  {
   "cell_type": "code",
   "execution_count": 27,
   "metadata": {},
   "outputs": [
    {
     "name": "stdout",
     "output_type": "stream",
     "text": [
      "Costo Total:  24839725.8\n",
      "Ingreso Total:  36907382.8915197\n",
      "Margen:  0.32697135765463653\n"
     ]
    }
   ],
   "source": [
    "CostoTotal, IngresoTotal, margen = calcular_margen(base, difeCostoIntermediacion, extra3hs, extraGBA, precio_optimizado)\n",
    "\n",
    "print('Costo Total: ', CostoTotal)\n",
    "print('Ingreso Total: ', IngresoTotal)\n",
    "print('Margen: ', margen)\n",
    "\n"
   ]
  },
  {
   "cell_type": "code",
   "execution_count": 32,
   "metadata": {},
   "outputs": [
    {
     "data": {
      "text/plain": [
       "0.2"
      ]
     },
     "execution_count": 32,
     "metadata": {},
     "output_type": "execute_result"
    }
   ],
   "source": [
    "difeCostoInter['mediodia']"
   ]
  },
  {
   "cell_type": "code",
   "execution_count": 33,
   "metadata": {},
   "outputs": [
    {
     "data": {
      "text/plain": [
       "0.2"
      ]
     },
     "execution_count": 33,
     "metadata": {},
     "output_type": "execute_result"
    }
   ],
   "source": [
    "difeCostoInter.get('mediodia', 0)"
   ]
  },
  {
   "cell_type": "code",
   "execution_count": null,
   "metadata": {},
   "outputs": [],
   "source": []
  }
 ],
 "metadata": {
  "kernelspec": {
   "display_name": "Python 3",
   "language": "python",
   "name": "python3"
  },
  "language_info": {
   "codemirror_mode": {
    "name": "ipython",
    "version": 3
   },
   "file_extension": ".py",
   "mimetype": "text/x-python",
   "name": "python",
   "nbconvert_exporter": "python",
   "pygments_lexer": "ipython3",
   "version": "3.11.3"
  },
  "polyglot_notebook": {
   "kernelInfo": {
    "defaultKernelName": "csharp",
    "items": [
     {
      "aliases": [],
      "name": "csharp"
     }
    ]
   }
  }
 },
 "nbformat": 4,
 "nbformat_minor": 2
}
